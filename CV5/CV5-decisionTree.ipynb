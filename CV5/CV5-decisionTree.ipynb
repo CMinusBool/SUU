{
 "cells": [
  {
   "cell_type": "code",
   "id": "initial_id",
   "metadata": {
    "collapsed": true,
    "ExecuteTime": {
     "end_time": "2024-11-02T16:47:04.118377Z",
     "start_time": "2024-11-02T16:47:03.087981Z"
    }
   },
   "source": [
    "import pandas as pd\n",
    "import numpy as np\n",
    "import matplotlib.pyplot as plt\n",
    "from sklearn.tree import DecisionTreeClassifier\n",
    "from sklearn.model_selection import train_test_split"
   ],
   "outputs": [],
   "execution_count": 6
  },
  {
   "metadata": {
    "ExecuteTime": {
     "end_time": "2024-11-02T16:43:32.674017Z",
     "start_time": "2024-11-02T16:43:32.665509Z"
    }
   },
   "cell_type": "code",
   "source": [
    "# Load the data\n",
    "df = pd.read_csv('data_classification/sep.csv')\n",
    "\n",
    "print(df.head())"
   ],
   "id": "4a8ef603bb6eb341",
   "outputs": [
    {
     "name": "stdout",
     "output_type": "stream",
     "text": [
      "   1.70;0.15;+1\n",
      "0  3.65;2.05;+1\n",
      "1  2.10;2.40;+1\n",
      "2  2.35;2.20;+1\n",
      "3  4.10;2.30;+1\n",
      "4  4.35;0.50;+1\n"
     ]
    }
   ],
   "execution_count": 3
  },
  {
   "metadata": {},
   "cell_type": "markdown",
   "source": "### Split the data into training and test sets",
   "id": "7864e1b3f79437d6"
  },
  {
   "metadata": {
    "ExecuteTime": {
     "end_time": "2024-11-02T16:47:05.648457Z",
     "start_time": "2024-11-02T16:47:05.632806Z"
    }
   },
   "cell_type": "code",
   "source": [
    "X = df.drop(columns=df.columns[-1])\n",
    "y = df[df.columns[-1]]\n",
    "\n",
    "X_train, X_test, y_train, y_test = train_test_split(X, y, test_size=0.2, random_state=13)\n",
    "\n",
    "print(X_train.shape, X_test.shape)"
   ],
   "id": "7f479a97f18d5a02",
   "outputs": [
    {
     "name": "stdout",
     "output_type": "stream",
     "text": [
      "(79, 0) (20, 0)\n"
     ]
    }
   ],
   "execution_count": 7
  },
  {
   "metadata": {
    "ExecuteTime": {
     "end_time": "2024-11-02T18:11:41.264481Z",
     "start_time": "2024-11-02T18:11:41.190986Z"
    }
   },
   "cell_type": "code",
   "source": [
    "#function to calculate gini coefficient\n",
    "def gini(fractions):\n",
    "    gini = 1\n",
    "    for fraction in fractions:\n",
    "        gini -= fraction**2\n",
    "    \n",
    "    return gini"
   ],
   "id": "4cbcfa3e1b7c7d55",
   "outputs": [],
   "execution_count": 8
  },
  {
   "metadata": {
    "ExecuteTime": {
     "end_time": "2024-11-02T18:11:42.073991Z",
     "start_time": "2024-11-02T18:11:42.070847Z"
    }
   },
   "cell_type": "code",
   "source": [
    "#Function fo spliting dataset\n",
    "def split_dataset(dataset, feature, value):\n",
    "    left = dataset[dataset[feature] <= value]\n",
    "    right = dataset[dataset[feature] > value]\n",
    "    \n",
    "    return left, right"
   ],
   "id": "98db3f2287e1cde1",
   "outputs": [],
   "execution_count": 9
  },
  {
   "metadata": {
    "ExecuteTime": {
     "end_time": "2024-11-02T18:11:43.662276Z",
     "start_time": "2024-11-02T18:11:43.658472Z"
    }
   },
   "cell_type": "code",
   "source": [
    "#Function for training the decision tree\n",
    "def train_decision_tree(dataset, max_depth=0):\n",
    "    for feature in dataset.columns[:-1]:\n",
    "        best_gini = 1\n",
    "        for value in dataset[feature]:\n",
    "            left, right = split_dataset(dataset, feature, value)\n",
    "            \n",
    "            gini_coef = gini([len(left)/len(dataset), len(right)/len(dataset)])\n",
    "            if gini_coef < best_gini:\n",
    "                best_gini = gini_coef\n",
    "                best_feature = feature\n",
    "                best_value = value\n",
    "                left_branch = left\n",
    "                right_branch = right\n",
    "        print(f'Best feature: {best_feature}, Best value: {best_value}, Best gini: {best_gini}')"
   ],
   "id": "f4a49849a06fb1c2",
   "outputs": [],
   "execution_count": 10
  },
  {
   "metadata": {
    "ExecuteTime": {
     "end_time": "2024-11-02T18:12:57.013740Z",
     "start_time": "2024-11-02T18:12:49.000693Z"
    }
   },
   "cell_type": "code",
   "source": [
    "# test code\n",
    "print(\"training decision tree\")\n",
    "train_decision_tree(df)"
   ],
   "id": "2ecaee69a6806258",
   "outputs": [
    {
     "name": "stdout",
     "output_type": "stream",
     "text": [
      "training decision tree\n"
     ]
    }
   ],
   "execution_count": 21
  }
 ],
 "metadata": {
  "kernelspec": {
   "display_name": "Python 3",
   "language": "python",
   "name": "python3"
  },
  "language_info": {
   "codemirror_mode": {
    "name": "ipython",
    "version": 2
   },
   "file_extension": ".py",
   "mimetype": "text/x-python",
   "name": "python",
   "nbconvert_exporter": "python",
   "pygments_lexer": "ipython2",
   "version": "2.7.6"
  }
 },
 "nbformat": 4,
 "nbformat_minor": 5
}
