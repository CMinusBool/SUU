{
 "cells": [
  {
   "metadata": {},
   "cell_type": "markdown",
   "source": "# Projekt - Implementace Knearst Neighbors algoritmu",
   "id": "fded4124f18eb4aa"
  },
  {
   "cell_type": "code",
   "id": "initial_id",
   "metadata": {
    "collapsed": true,
    "ExecuteTime": {
     "end_time": "2025-01-14T13:44:47.315771Z",
     "start_time": "2025-01-14T13:44:47.302913Z"
    }
   },
   "source": [
    "import numpy as np\n",
    "from sklearn.model_selection import train_test_split\n",
    "from sklearn.metrics import accuracy_score\n",
    "from sklearn.neighbors import KNeighborsClassifier\n",
    "from sklearn.datasets import load_iris, load_wine, load_digits\n",
    "from datetime import datetime\n",
    "from collections import Counter"
   ],
   "outputs": [],
   "execution_count": 29
  },
  {
   "metadata": {
    "ExecuteTime": {
     "end_time": "2025-01-14T13:37:44.539300Z",
     "start_time": "2025-01-14T13:37:44.519231Z"
    }
   },
   "cell_type": "code",
   "source": [
    "# library implementation test\n",
    "# Loads a sample dataset\n",
    "data = load_wine()\n",
    "X = data.data \n",
    "y = data.target  \n",
    "\n",
    "# Splits the data into training and testing sets\n",
    "X_train, X_test, y_train, y_test = train_test_split(X, y, test_size=0.2, random_state=13)\n",
    "\n",
    "start_time = datetime.now()\n",
    "knn = KNeighborsClassifier(n_neighbors=3)\n",
    "\n",
    "knn.fit(X_train, y_train)\n",
    "\n",
    "y_pred = knn.predict(X_test)\n",
    "\n",
    "accuracy = accuracy_score(y_test, y_pred)\n",
    "print(f\"Accuracy: {accuracy:.2f}\")\n",
    "print(\"--- %s seconds ---\" % (datetime.now() - start_time)) "
   ],
   "id": "99310a8f0279f576",
   "outputs": [
    {
     "name": "stdout",
     "output_type": "stream",
     "text": [
      "Accuracy: 0.64\n",
      "--- 0:00:00.015657 seconds ---\n"
     ]
    }
   ],
   "execution_count": 27
  },
  {
   "metadata": {
    "ExecuteTime": {
     "end_time": "2025-01-14T13:37:04.205737Z",
     "start_time": "2025-01-14T13:37:04.157362Z"
    }
   },
   "cell_type": "code",
   "source": [
    "class KNearestNeighbors:\n",
    "    def __init__(self, k=3):\n",
    "        self.k = k\n",
    "    \n",
    "    def fit(self, X_train, y_train):\n",
    "        # algoritmus si uloží trénovací data- ta budou použita při predikci\n",
    "        self.X_train = X_train\n",
    "        self.y_train = y_train\n",
    "    \n",
    "    def predict(self, X_test):\n",
    "        predictions = [self._predict(x) for x in X_test]\n",
    "        return np.array(predictions)\n",
    "    \n",
    "    def _predict(self, x):\n",
    "        # První je spočítána vzdálenosti mezi x a všemi trénovacími daty(Je použita euklidovská vzdálenost, ale je možné použít i jiné)\n",
    "        distances = [self._euclidean_distance(x, x_train) for x_train in self.X_train]\n",
    "        \n",
    "        # prvních k nejbližších sousedů\n",
    "        k_indices = np.argsort(distances)[:self.k]\n",
    "        \n",
    "        # získání tříd těchto nejbližších sousedů\n",
    "        k_nearest_labels = [self.y_train[i] for i in k_indices]\n",
    "        \n",
    "        # Nejběžnější třída je vrácena jako predikce\n",
    "        most_common = Counter(k_nearest_labels).most_common(1)\n",
    "        return most_common[0][0]\n",
    "    \n",
    "    def _euclidean_distance(self, x1, x2):\n",
    "        return np.sqrt(np.sum((x1 - x2) ** 2))\n",
    "\n",
    "\n",
    "# Test s datasetem vína\n",
    "data = load_wine()\n",
    "X = data.data\n",
    "y = data.target\n",
    "\n",
    "X_train, X_test, y_train, y_test = train_test_split(X, y, test_size=0.2, random_state=13)\n",
    "\n",
    "start_time = datetime.now()\n",
    "knn_custom = KNearestNeighbors(k=3)\n",
    "\n",
    "knn_custom.fit(X_train, y_train)\n",
    "\n",
    "y_pred_custom = knn_custom.predict(X_test)\n",
    "\n",
    "accuracy_custom = accuracy_score(y_test, y_pred_custom)\n",
    "print(f\"Accuracy of custom KNN: {accuracy_custom:.2f}\")\n",
    "print(\"--- %s seconds ---\" % (datetime.now() - start_time))\n"
   ],
   "id": "17d659d70863f716",
   "outputs": [
    {
     "name": "stdout",
     "output_type": "stream",
     "text": [
      "Accuracy of custom KNN: 0.64\n",
      "--- 0:00:00.015625 seconds ---\n"
     ]
    }
   ],
   "execution_count": 25
  },
  {
   "metadata": {
    "ExecuteTime": {
     "end_time": "2025-01-14T13:44:53.115007Z",
     "start_time": "2025-01-14T13:44:50.025757Z"
    }
   },
   "cell_type": "code",
   "source": [
    "# Test rychlosti na větším datasetu\n",
    "data = load_digits()\n",
    "\n",
    "X = data.data\n",
    "y = data.target\n",
    "\n",
    "X_train, X_test, y_train, y_test = train_test_split(X, y, test_size=0.2, random_state=13)\n",
    "\n",
    "start_time = datetime.now()\n",
    "knn_custom = KNearestNeighbors(k=3)\n",
    "\n",
    "knn_custom.fit(X_train, y_train)\n",
    "\n",
    "y_pred_custom = knn_custom.predict(X_test)\n",
    "\n",
    "accuracy_custom = accuracy_score(y_test, y_pred_custom)\n",
    "\n",
    "print(f\"Accuracy of custom KNN: {accuracy_custom:.2f}\")\n",
    "print(\"--- %s seconds ---\" % (datetime.now() - start_time))\n",
    "\n",
    "start_time = datetime.now()\n",
    "knn = KNeighborsClassifier(n_neighbors=3)\n",
    "\n",
    "knn.fit(X_train, y_train)\n",
    "\n",
    "y_pred = knn.predict(X_test)\n",
    "\n",
    "accuracy = accuracy_score(y_test, y_pred)\n",
    "print(f\"Accuracy: {accuracy:.2f}\")\n",
    "print(\"--- %s seconds ---\" % (datetime.now() - start_time))"
   ],
   "id": "1dab8544c97d7224",
   "outputs": [
    {
     "name": "stdout",
     "output_type": "stream",
     "text": [
      "Accuracy of custom KNN: 0.98\n",
      "--- 0:00:02.895294 seconds ---\n",
      "Accuracy: 0.98\n",
      "--- 0:00:00.139717 seconds ---\n"
     ]
    }
   ],
   "execution_count": 30
  },
  {
   "metadata": {},
   "cell_type": "markdown",
   "source": [
    "## Shrnutí\n",
    "- Vytvořená implementace KNN algoritmu dosahuje stejných výsledků jako knn z knihovny sklearn.\n",
    "- Na malých datasetech trvá výpočet stejně dlouho, ale na větších datasetech(Například u datasetu digits, který má 1797 prvků) je knn z knihovny sklearn podstatně rychlejší.\n",
    "- Knihovní implementace totiž používá pokročilejší datové struktury jako KD-Tree a Ball-Tree, které umožňují rychlejší vyhledávání nejbližších sousedů.\n",
    "- Knihovní implementace má také některé části napsané v C, používá cache, multithreading a jiné optimalizace, které zvyšují rychlost.\n"
   ],
   "id": "9d8afa63a1ce981f"
  }
 ],
 "metadata": {
  "kernelspec": {
   "display_name": "Python 3",
   "language": "python",
   "name": "python3"
  },
  "language_info": {
   "codemirror_mode": {
    "name": "ipython",
    "version": 2
   },
   "file_extension": ".py",
   "mimetype": "text/x-python",
   "name": "python",
   "nbconvert_exporter": "python",
   "pygments_lexer": "ipython2",
   "version": "2.7.6"
  }
 },
 "nbformat": 4,
 "nbformat_minor": 5
}
